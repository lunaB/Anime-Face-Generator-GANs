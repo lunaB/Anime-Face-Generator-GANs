{
 "cells": [
  {
   "cell_type": "code",
   "execution_count": 1,
   "metadata": {
    "colab": {
     "base_uri": "https://localhost:8080/",
     "height": 35
    },
    "colab_type": "code",
    "executionInfo": {
     "elapsed": 2044,
     "status": "ok",
     "timestamp": 1565690048784,
     "user": {
      "displayName": "나영채",
      "photoUrl": "https://lh3.googleusercontent.com/-1h_sg6Zjfrc/AAAAAAAAAAI/AAAAAAAAADw/X5GNG0Yji1Q/s64/photo.jpg",
      "userId": "09433170563114172724"
     },
     "user_tz": -540
    },
    "id": "CRplxqEIezyD",
    "outputId": "5700b4b4-b958-46f1-b536-5b1b82455ac8"
   },
   "outputs": [
    {
     "name": "stderr",
     "output_type": "stream",
     "text": [
      "Using TensorFlow backend.\n",
      "/opt/conda/lib/python3.6/site-packages/tensorflow/python/framework/dtypes.py:516: FutureWarning: Passing (type, 1) or '1type' as a synonym of type is deprecated; in a future version of numpy, it will be understood as (type, (1,)) / '(1,)type'.\n",
      "  _np_qint8 = np.dtype([(\"qint8\", np.int8, 1)])\n",
      "/opt/conda/lib/python3.6/site-packages/tensorflow/python/framework/dtypes.py:517: FutureWarning: Passing (type, 1) or '1type' as a synonym of type is deprecated; in a future version of numpy, it will be understood as (type, (1,)) / '(1,)type'.\n",
      "  _np_quint8 = np.dtype([(\"quint8\", np.uint8, 1)])\n",
      "/opt/conda/lib/python3.6/site-packages/tensorflow/python/framework/dtypes.py:518: FutureWarning: Passing (type, 1) or '1type' as a synonym of type is deprecated; in a future version of numpy, it will be understood as (type, (1,)) / '(1,)type'.\n",
      "  _np_qint16 = np.dtype([(\"qint16\", np.int16, 1)])\n",
      "/opt/conda/lib/python3.6/site-packages/tensorflow/python/framework/dtypes.py:519: FutureWarning: Passing (type, 1) or '1type' as a synonym of type is deprecated; in a future version of numpy, it will be understood as (type, (1,)) / '(1,)type'.\n",
      "  _np_quint16 = np.dtype([(\"quint16\", np.uint16, 1)])\n",
      "/opt/conda/lib/python3.6/site-packages/tensorflow/python/framework/dtypes.py:520: FutureWarning: Passing (type, 1) or '1type' as a synonym of type is deprecated; in a future version of numpy, it will be understood as (type, (1,)) / '(1,)type'.\n",
      "  _np_qint32 = np.dtype([(\"qint32\", np.int32, 1)])\n",
      "/opt/conda/lib/python3.6/site-packages/tensorflow/python/framework/dtypes.py:525: FutureWarning: Passing (type, 1) or '1type' as a synonym of type is deprecated; in a future version of numpy, it will be understood as (type, (1,)) / '(1,)type'.\n",
      "  np_resource = np.dtype([(\"resource\", np.ubyte, 1)])\n",
      "/opt/conda/lib/python3.6/site-packages/tensorboard/compat/tensorflow_stub/dtypes.py:541: FutureWarning: Passing (type, 1) or '1type' as a synonym of type is deprecated; in a future version of numpy, it will be understood as (type, (1,)) / '(1,)type'.\n",
      "  _np_qint8 = np.dtype([(\"qint8\", np.int8, 1)])\n",
      "/opt/conda/lib/python3.6/site-packages/tensorboard/compat/tensorflow_stub/dtypes.py:542: FutureWarning: Passing (type, 1) or '1type' as a synonym of type is deprecated; in a future version of numpy, it will be understood as (type, (1,)) / '(1,)type'.\n",
      "  _np_quint8 = np.dtype([(\"quint8\", np.uint8, 1)])\n",
      "/opt/conda/lib/python3.6/site-packages/tensorboard/compat/tensorflow_stub/dtypes.py:543: FutureWarning: Passing (type, 1) or '1type' as a synonym of type is deprecated; in a future version of numpy, it will be understood as (type, (1,)) / '(1,)type'.\n",
      "  _np_qint16 = np.dtype([(\"qint16\", np.int16, 1)])\n",
      "/opt/conda/lib/python3.6/site-packages/tensorboard/compat/tensorflow_stub/dtypes.py:544: FutureWarning: Passing (type, 1) or '1type' as a synonym of type is deprecated; in a future version of numpy, it will be understood as (type, (1,)) / '(1,)type'.\n",
      "  _np_quint16 = np.dtype([(\"quint16\", np.uint16, 1)])\n",
      "/opt/conda/lib/python3.6/site-packages/tensorboard/compat/tensorflow_stub/dtypes.py:545: FutureWarning: Passing (type, 1) or '1type' as a synonym of type is deprecated; in a future version of numpy, it will be understood as (type, (1,)) / '(1,)type'.\n",
      "  _np_qint32 = np.dtype([(\"qint32\", np.int32, 1)])\n",
      "/opt/conda/lib/python3.6/site-packages/tensorboard/compat/tensorflow_stub/dtypes.py:550: FutureWarning: Passing (type, 1) or '1type' as a synonym of type is deprecated; in a future version of numpy, it will be understood as (type, (1,)) / '(1,)type'.\n",
      "  np_resource = np.dtype([(\"resource\", np.ubyte, 1)])\n"
     ]
    }
   ],
   "source": [
    "import cv2\n",
    "import matplotlib.pyplot as plt\n",
    "import os\n",
    "import numpy as np\n",
    "from tqdm import tqdm\n",
    "\n",
    "from keras.layers import Input, Conv2D, MaxPooling2D, ReLU, BatchNormalization, Reshape, UpSampling2D, Conv2DTranspose, Activation\n",
    "from keras.models import Model, Sequential\n",
    "from keras.layers.core import Dense, Dropout, Flatten\n",
    "from keras.layers.advanced_activations import LeakyReLU\n",
    "from keras.datasets import mnist\n",
    "from keras.optimizers import Adam\n",
    "from keras import initializers\n",
    "\n",
    "np.random.seed(1)"
   ]
  },
  {
   "cell_type": "code",
   "execution_count": 2,
   "metadata": {
    "colab": {
     "base_uri": "https://localhost:8080/",
     "height": 71
    },
    "colab_type": "code",
    "executionInfo": {
     "elapsed": 357367,
     "status": "ok",
     "timestamp": 1565641706715,
     "user": {
      "displayName": "나영채",
      "photoUrl": "https://lh3.googleusercontent.com/-1h_sg6Zjfrc/AAAAAAAAAAI/AAAAAAAAADw/X5GNG0Yji1Q/s64/photo.jpg",
      "userId": "09433170563114172724"
     },
     "user_tz": -540
    },
    "id": "zA1XtppqezyI",
    "outputId": "e925e56b-acfb-4f61-de85-fb7bbab3921f"
   },
   "outputs": [
    {
     "name": "stdout",
     "output_type": "stream",
     "text": [
      "(20000, 64, 64, 3)\n"
     ]
    }
   ],
   "source": [
    "folder = '../input/anime-faces/data/data'\n",
    "l = os.listdir(folder)\n",
    "\n",
    "train_data = []\n",
    "\n",
    "for i in l[:20000]:\n",
    "    try:\n",
    "        # 로드\n",
    "        src = cv2.imread(folder+\"/\"+i, cv2.IMREAD_COLOR)\n",
    "        st = cv2.cvtColor(src, cv2.COLOR_BGR2RGB)\n",
    "        train_data.append(st)\n",
    "    except:\n",
    "        print(i)\n",
    "        continue\n",
    "\n",
    "train_data = np.array(train_data)\n",
    "\n",
    "# train_data2 = (train_data.astype(np.float32) - 127.5)/127.5\n",
    "train_data = train_data.astype(np.float32) / 255\n",
    "print(train_data.shape)"
   ]
  },
  {
   "cell_type": "code",
   "execution_count": 3,
   "metadata": {
    "colab": {},
    "colab_type": "code",
    "id": "b-lqU_UaezyL"
   },
   "outputs": [],
   "source": [
    "class GENs():\n",
    "    \n",
    "    def __init__(self):\n",
    "        \n",
    "        self.random_dim = 100\n",
    "        \n",
    "        self.generator = Sequential()\n",
    "        self.discriminator = Sequential()\n",
    "        \n",
    "        # 우리의 GAN 네트워크를 만듭니다.\n",
    "        adam = self.get_optimizer()\n",
    "        self.set_generator(adam)\n",
    "        self.set_discriminator(adam)\n",
    "        \n",
    "        self.discriminator.trainable = False\n",
    "        \n",
    "        # placeholder\n",
    "        gan_input = Input(shape=(self.random_dim,))\n",
    "        \n",
    "        # 생성\n",
    "        X = self.generator(gan_input)\n",
    "        \n",
    "        # 검출\n",
    "        gan_output = self.discriminator(X)\n",
    "        \n",
    "        # 최종 모델 생성\n",
    "        self.gan = Model(inputs=gan_input, outputs=gan_output)\n",
    "        self.gan.compile(loss='binary_crossentropy', optimizer=adam)\n",
    "    \n",
    "    def train(self, epochs=1, batch_size=128):\n",
    "        \n",
    "        batch_count = train_data.shape[0] // batch_size\n",
    "        \n",
    "        for e in range(1, epochs+1):\n",
    "            if e == 1 or e % 10 == 0:\n",
    "                print('-'*15, 'Epoch %d' % e, '-'*15)\n",
    "            for _ in tqdm(range(batch_count)):\n",
    "                # 입력으로 사용할 random 노이즈와 이미지를 가져옵니다.\n",
    "                noise = np.random.normal(0, 1, size=[batch_size, self.random_dim])\n",
    "\n",
    "                image_batch = train_data[np.random.randint(0, train_data.shape[0], size=batch_size)]\n",
    "\n",
    "                # 이미지 생성\n",
    "                generated_images = self.generator.predict(noise)\n",
    "                X = np.concatenate([image_batch, generated_images])\n",
    "\n",
    "                y_dis = np.zeros(2*batch_size)\n",
    "                y_dis[:batch_size] = 0.9\n",
    "\n",
    "                # Discriminator를 학습시킵니다.\n",
    "                self.discriminator.trainable = True\n",
    "                self.discriminator.train_on_batch(X, y_dis)\n",
    "\n",
    "                # Generator를 학습시킵니다.\n",
    "                noise = np.random.normal(0, 1, size=[batch_size, self.random_dim])\n",
    "                y_gen = np.ones(batch_size)\n",
    "                self.discriminator.trainable = False\n",
    "                self.gan.train_on_batch(noise, y_gen)\n",
    "            if e == 1 or e % 100 == 0:\n",
    "                self.plot_generated_images(e)\n",
    "    \n",
    "    def get_optimizer(self):\n",
    "        return Adam(lr=0.0002, beta_1=0.5)\n",
    "    \n",
    "    # Generator\n",
    "    def set_generator(self, optimizer):\n",
    "        self.generator.add(Dense(4*4*64*4, input_dim=self.random_dim, kernel_initializer=initializers.RandomNormal(stddev=0.02)))\n",
    "        self.generator.add(BatchNormalization(momentum=0.9))\n",
    "        self.generator.add(LeakyReLU(0.2))\n",
    "        self.generator.add(Reshape((4,4,64*4)))\n",
    "        self.generator.add(Dropout(0.3))\n",
    "        \n",
    "        # 8 * 8\n",
    "        self.generator.add(UpSampling2D())\n",
    "        self.generator.add(Conv2DTranspose(64*2, 5, padding='same'))\n",
    "        self.generator.add(BatchNormalization(momentum=0.9))\n",
    "        self.generator.add(LeakyReLU(0.2))\n",
    "\n",
    "        # 16 * 16\n",
    "        self.generator.add(UpSampling2D())\n",
    "        self.generator.add(Conv2DTranspose(64, 5, padding='same'))\n",
    "        self.generator.add(BatchNormalization(momentum=0.9))\n",
    "        self.generator.add(LeakyReLU(0.2))\n",
    "        \n",
    "        \n",
    "        self.generator.add(UpSampling2D())\n",
    "        self.generator.add(Conv2DTranspose(32, 5, padding='same'))\n",
    "        self.generator.add(BatchNormalization(momentum=0.9))\n",
    "        self.generator.add(LeakyReLU(0.2))\n",
    "        \n",
    "        self.generator.add(UpSampling2D())\n",
    "        self.generator.add(Conv2DTranspose(64, 5, padding='same'))\n",
    "        self.generator.add(BatchNormalization(momentum=0.9))\n",
    "        self.generator.add(LeakyReLU(0.2))\n",
    "        \n",
    "        self.generator.add(Conv2DTranspose(3, 5, padding='same'))\n",
    "        self.generator.add(Activation(\"tanh\"))\n",
    "        \n",
    "        self.generator.compile(loss='binary_crossentropy', optimizer=optimizer)\n",
    "    # Discriminator 만들기\n",
    "    def set_discriminator(self, optimizer):\n",
    "#         self.discriminator.add(Dense(4096, input_dim=64*64, kernel_initializer=initializers.RandomNormal(stddev=0.02)))\n",
    "        self.discriminator.add(Conv2D(16, kernel_size=3, input_shape=(64,64,3), kernel_initializer=initializers.RandomNormal(stddev=0.02)))\n",
    "        self.discriminator.add(LeakyReLU(0.2))\n",
    "        self.discriminator.add(MaxPooling2D(pool_size=(2, 2)))\n",
    "        self.discriminator.add(Dropout(0.3))\n",
    "\n",
    "        self.discriminator.add(Conv2D(32, kernel_size=3))\n",
    "        self.discriminator.add(LeakyReLU(0.2))\n",
    "        self.discriminator.add(MaxPooling2D(pool_size=(2, 2)))\n",
    "        self.discriminator.add(Dropout(0.3))\n",
    "        \n",
    "        self.discriminator.add(Conv2D(64, kernel_size=3))\n",
    "        self.discriminator.add(LeakyReLU(0.2))\n",
    "        self.discriminator.add(MaxPooling2D(pool_size=(2, 2)))\n",
    "        self.discriminator.add(Dropout(0.3))\n",
    "        self.discriminator.add(Flatten())\n",
    "            \n",
    "        self.discriminator.add(Dense(128))\n",
    "        self.discriminator.add(LeakyReLU(0.2))\n",
    "        self.discriminator.add(Dropout(0.3))\n",
    "\n",
    "        self.discriminator.add(Dense(64))\n",
    "        self.discriminator.add(LeakyReLU(0.2))\n",
    "        self.discriminator.add(Dropout(0.3))\n",
    "\n",
    "        self.discriminator.add(Dense(1, activation='sigmoid'))\n",
    "        self.discriminator.compile(loss='binary_crossentropy', optimizer=optimizer)\n",
    "    \n",
    "    # train 중 image 검사\n",
    "    def plot_generated_images(self, epoch, examples=100, dim=(10, 10), figsize=(10, 10)):\n",
    "        noise = np.random.normal(0, 1, size=[examples, self.random_dim])\n",
    "        generated_images = self.generator.predict(noise)\n",
    "        generated_images = generated_images.reshape(examples, 64, 64, 3)\n",
    "\n",
    "        plt.figure(figsize=figsize)\n",
    "        for i in range(generated_images.shape[0]):\n",
    "            plt.subplot(dim[0], dim[1], i+1)\n",
    "            plt.imshow(generated_images[i], interpolation='nearest', cmap='gray')\n",
    "            plt.axis('off')\n",
    "        plt.tight_layout()\n",
    "        plt.savefig('gan_generated_image_epoch_%d.png' % epoch)\n",
    "     \n",
    "    ################################################\n",
    "    #  사용\n",
    "    ################################################\n",
    "    \n",
    "    # noise 생성\n",
    "    def create_noise(self, examples=100):\n",
    "        noise = np.random.normal(0, 1, size=[examples, self.random_dim])\n",
    "        return noise\n",
    "    \n",
    "    # predict 값 반환\n",
    "    def generater_predict(self, noise):\n",
    "        generated_images = self.generator.predict(noise)\n",
    "        generated_images = generated_images.reshape(noise.shape[0], 64, 64, 3)\n",
    "        return generated_images\n",
    "    \n",
    "    def output_model(self, pre, name):\n",
    "        \n",
    "        model_json = self.generator.to_json()\n",
    "        with open(pre+\"generator_\"+name+\".json\", \"w\") as json_file : \n",
    "            json_file.write(model_json)\n",
    "        \n",
    "        model_json = self.discriminator.to_json()\n",
    "        with open(pre+\"discriminator_\"+name+\".json\", \"w\") as json_file : \n",
    "            json_file.write(model_json)\n",
    "        \n",
    "        model_json = self.gan.to_json()\n",
    "        with open(pre+\"gan_\"+name+\".json\", \"w\") as json_file : \n",
    "            json_file.write(model_json)\n",
    "            \n",
    "        self.generator.save_weights(pre+\"generator_weight_\"+name+\".h5\")\n",
    "        self.discriminator.save_weights(pre+\"discriminator_weight_\"+name+\".h5\")\n",
    "        self.gan.save_weights(pre+\"gan_weight_\"+name+\".h5\")\n",
    "        "
   ]
  },
  {
   "cell_type": "code",
   "execution_count": 4,
   "metadata": {
    "colab": {
     "base_uri": "https://localhost:8080/",
     "height": 1000,
     "output_embedded_package_id": "1htjk56N2G9T0TkKGo3NNhniS8zx9n3Yr"
    },
    "colab_type": "code",
    "executionInfo": {
     "elapsed": 5506726,
     "status": "ok",
     "timestamp": 1565695678109,
     "user": {
      "displayName": "나영채",
      "photoUrl": "https://lh3.googleusercontent.com/-1h_sg6Zjfrc/AAAAAAAAAAI/AAAAAAAAADw/X5GNG0Yji1Q/s64/photo.jpg",
      "userId": "09433170563114172724"
     },
     "user_tz": -540
    },
    "id": "45VEWO13ezyN",
    "outputId": "9f5dc093-1f42-40a5-87ee-b8d7d65fbdf8",
    "scrolled": true
   },
   "outputs": [
    {
     "name": "stderr",
     "output_type": "stream",
     "text": [
      "  0%|          | 0/156 [00:00<?, ?it/s]"
     ]
    },
    {
     "name": "stdout",
     "output_type": "stream",
     "text": [
      "--------------- Epoch 1 ---------------\n"
     ]
    },
    {
     "name": "stderr",
     "output_type": "stream",
     "text": [
      "100%|██████████| 156/156 [00:25<00:00,  8.53it/s]\n",
      "100%|██████████| 156/156 [00:18<00:00,  8.52it/s]\n",
      "100%|██████████| 156/156 [00:18<00:00,  8.55it/s]\n",
      "100%|██████████| 156/156 [00:18<00:00,  8.37it/s]\n",
      "100%|██████████| 156/156 [00:18<00:00,  8.16it/s]\n",
      "100%|██████████| 156/156 [00:18<00:00,  8.50it/s]\n",
      "100%|██████████| 156/156 [00:18<00:00,  8.36it/s]\n",
      "100%|██████████| 156/156 [00:18<00:00,  8.49it/s]\n",
      "100%|██████████| 156/156 [00:18<00:00,  8.38it/s]\n",
      "  1%|          | 1/156 [00:00<00:17,  8.76it/s]"
     ]
    },
    {
     "name": "stdout",
     "output_type": "stream",
     "text": [
      "--------------- Epoch 10 ---------------\n"
     ]
    },
    {
     "name": "stderr",
     "output_type": "stream",
     "text": [
      "100%|██████████| 156/156 [00:18<00:00,  8.44it/s]\n",
      "100%|██████████| 156/156 [00:18<00:00,  8.52it/s]\n",
      "100%|██████████| 156/156 [00:18<00:00,  8.48it/s]\n",
      "100%|██████████| 156/156 [00:18<00:00,  8.47it/s]\n",
      "100%|██████████| 156/156 [00:18<00:00,  8.35it/s]\n",
      "100%|██████████| 156/156 [00:18<00:00,  8.33it/s]\n",
      "100%|██████████| 156/156 [00:18<00:00,  8.51it/s]\n",
      "100%|██████████| 156/156 [00:18<00:00,  8.43it/s]\n",
      "100%|██████████| 156/156 [00:18<00:00,  8.37it/s]\n",
      "100%|██████████| 156/156 [00:18<00:00,  8.31it/s]\n",
      "  1%|          | 1/156 [00:00<00:17,  8.70it/s]"
     ]
    },
    {
     "name": "stdout",
     "output_type": "stream",
     "text": [
      "--------------- Epoch 20 ---------------\n"
     ]
    },
    {
     "name": "stderr",
     "output_type": "stream",
     "text": [
      "100%|██████████| 156/156 [00:18<00:00,  8.34it/s]\n",
      "100%|██████████| 156/156 [00:18<00:00,  8.50it/s]\n",
      "100%|██████████| 156/156 [00:18<00:00,  8.34it/s]\n",
      "100%|██████████| 156/156 [00:18<00:00,  8.42it/s]\n",
      "100%|██████████| 156/156 [00:18<00:00,  8.37it/s]\n",
      "100%|██████████| 156/156 [00:18<00:00,  8.13it/s]\n",
      "100%|██████████| 156/156 [00:18<00:00,  8.51it/s]\n",
      "100%|██████████| 156/156 [00:18<00:00,  8.47it/s]\n",
      "100%|██████████| 156/156 [00:18<00:00,  8.49it/s]\n",
      "100%|██████████| 156/156 [00:18<00:00,  8.17it/s]\n",
      "  1%|          | 1/156 [00:00<00:17,  8.64it/s]"
     ]
    },
    {
     "name": "stdout",
     "output_type": "stream",
     "text": [
      "--------------- Epoch 30 ---------------\n"
     ]
    },
    {
     "name": "stderr",
     "output_type": "stream",
     "text": [
      "100%|██████████| 156/156 [00:18<00:00,  8.44it/s]\n",
      "100%|██████████| 156/156 [00:18<00:00,  8.32it/s]\n",
      "100%|██████████| 156/156 [00:18<00:00,  8.47it/s]\n",
      "100%|██████████| 156/156 [00:18<00:00,  8.53it/s]\n",
      "100%|██████████| 156/156 [00:18<00:00,  8.38it/s]\n",
      "100%|██████████| 156/156 [00:18<00:00,  8.37it/s]\n",
      "100%|██████████| 156/156 [00:18<00:00,  8.47it/s]\n",
      "100%|██████████| 156/156 [00:18<00:00,  8.23it/s]\n",
      "100%|██████████| 156/156 [00:18<00:00,  8.34it/s]\n",
      "100%|██████████| 156/156 [00:18<00:00,  8.47it/s]\n",
      "  1%|          | 1/156 [00:00<00:18,  8.17it/s]"
     ]
    },
    {
     "name": "stdout",
     "output_type": "stream",
     "text": [
      "--------------- Epoch 40 ---------------\n"
     ]
    },
    {
     "name": "stderr",
     "output_type": "stream",
     "text": [
      "100%|██████████| 156/156 [00:18<00:00,  8.47it/s]\n",
      "100%|██████████| 156/156 [00:18<00:00,  8.42it/s]\n",
      "100%|██████████| 156/156 [00:18<00:00,  8.33it/s]\n",
      "100%|██████████| 156/156 [00:18<00:00,  8.16it/s]\n",
      "100%|██████████| 156/156 [00:18<00:00,  8.32it/s]\n",
      "100%|██████████| 156/156 [00:18<00:00,  8.39it/s]\n",
      "100%|██████████| 156/156 [00:18<00:00,  8.51it/s]\n",
      "100%|██████████| 156/156 [00:18<00:00,  8.48it/s]\n",
      " 62%|██████▏   | 96/156 [00:11<00:07,  8.52it/s]"
     ]
    }
   ],
   "source": [
    "gans = GENs()\n",
    "gans.train(epochs=900, batch_size=128)"
   ]
  },
  {
   "cell_type": "code",
   "execution_count": 5,
   "metadata": {
    "colab": {},
    "colab_type": "code",
    "id": "S5uD805On0ZI"
   },
   "outputs": [],
   "source": [
    "gans.output_model(\"\",\"\")"
   ]
  },
  {
   "cell_type": "code",
   "execution_count": 6,
   "metadata": {
    "colab": {},
    "colab_type": "code",
    "id": "vag3iBrMybks"
   },
   "outputs": [],
   "source": [
    "from matplotlib import animation, rc\n",
    "from IPython.display import HTML"
   ]
  },
  {
   "cell_type": "code",
   "execution_count": 7,
   "metadata": {
    "colab": {
     "base_uri": "https://localhost:8080/",
     "height": 558
    },
    "colab_type": "code",
    "executionInfo": {
     "elapsed": 3028,
     "status": "ok",
     "timestamp": 1565709373212,
     "user": {
      "displayName": "나영채",
      "photoUrl": "https://lh3.googleusercontent.com/-1h_sg6Zjfrc/AAAAAAAAAAI/AAAAAAAAADw/X5GNG0Yji1Q/s64/photo.jpg",
      "userId": "09433170563114172724"
     },
     "user_tz": -540
    },
    "id": "bFeH1AP6yp7u",
    "outputId": "73a8c980-d3e4-4c16-c080-05c6b0920479"
   },
   "outputs": [
    {
     "data": {
      "image/png": "[encoded data removed]",
      "text/plain": [
       "<Figure size 432x288 with 1 Axes>"
      ]
     },
     "metadata": {
      "needs_background": "light"
     },
     "output_type": "display_data"
    }
   ],
   "source": [
    "fig = plt.figure()\n",
    "plt.axis('off')\n",
    "noise = np.zeros((1,100))\n",
    "p = gans.generater_predict(noise)\n",
    "\n",
    "r = p.reshape((1,64,64,3))[0]\n",
    "\n",
    "im=plt.imshow(r, interpolation='nearest', cmap='gray')\n",
    "\n",
    "def init():\n",
    "    im.set_data(r)\n",
    "    return [im]\n",
    "\n",
    "a = gans.create_noise(1)\n",
    "b = np.zeros((1,100))  \n",
    "  \n",
    "def animate(i):\n",
    "    global a, b\n",
    "    x = np.linspace(0, np.pi, 100)\n",
    "    if i % 50 == 0:\n",
    "        a = gans.create_noise(1)\n",
    "    else:\n",
    "        b = a * np.sin(2 * np.pi * (x - 0.02 * i))*np.cos(1 * np.pi * (x - 0.01 * i))*0.7+0.2\n",
    "    \n",
    "    p = gans.generater_predict(b)\n",
    "    r = p.reshape((1,64,64,3))[0]\n",
    "    \n",
    "    im.set_array(r)\n",
    "    return [im]\n",
    "  \n",
    "anim = animation.FuncAnimation(fig, animate, init_func=init, frames=1000, interval=100, blit=True)\n",
    "anim.save('animation.gif', fps=30, extra_args=['-vcodec', 'libx264'])\n",
    "\n",
    "# plt.rcParams['animation.ffmpeg_path'] = '/usr/local/bin/ffmpeg'\n",
    "# HTML(anim.to_html5_video())"
   ]
  },
  {
   "cell_type": "code",
   "execution_count": 8,
   "metadata": {},
   "outputs": [
    {
     "data": {
      "image/png": "[encoded data removed]",
      "text/plain": [
       "<Figure size 432x288 with 1 Axes>"
      ]
     },
     "metadata": {
      "needs_background": "light"
     },
     "output_type": "display_data"
    }
   ],
   "source": [
    "# noise = np.zeros((1,100))\n",
    "noise = gans.create_noise(1)\n",
    "p = gans.generater_predict(noise)\n",
    "r = p.reshape((1,64,64,3))[0]\n",
    "\n",
    "plt.imshow(r)\n",
    "plt.axis('off')\n",
    "plt.show()"
   ]
  }
 ],
 "metadata": {
  "accelerator": "GPU",
  "colab": {
   "name": "anime_gans.ipynb",
   "provenance": [],
   "version": "0.3.2"
  },
  "kernelspec": {
   "display_name": "Python 3",
   "language": "python",
   "name": "python3"
  },
  "language_info": {
   "codemirror_mode": {
    "name": "ipython",
    "version": 3
   },
   "file_extension": ".py",
   "mimetype": "text/x-python",
   "name": "python",
   "nbconvert_exporter": "python",
   "pygments_lexer": "ipython3",
   "version": "3.7.3"
  }
 },
 "nbformat": 4,
 "nbformat_minor": 1
}
